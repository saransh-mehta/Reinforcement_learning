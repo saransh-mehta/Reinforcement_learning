{
 "cells": [
  {
   "cell_type": "code",
   "execution_count": 1,
   "metadata": {},
   "outputs": [
    {
     "name": "stderr",
     "output_type": "stream",
     "text": [
      "Using TensorFlow backend.\n"
     ]
    }
   ],
   "source": [
    "from keras.layers import Dense, Flatten\n",
    "from keras.models import Sequential\n",
    "from collections import deque\n",
    "# deque gives double sided queue, delete and append from both sides\n",
    "import numpy as np\n",
    "import random\n",
    "\n",
    "import gym"
   ]
  },
  {
   "cell_type": "code",
   "execution_count": 2,
   "metadata": {
    "collapsed": true
   },
   "outputs": [],
   "source": [
    "# definition for some hyper parameters\n",
    "\n",
    "#episodes - a number of games we want the agent to play.\n",
    "\n",
    "#gamma - aka decay or discount rate, to calculate the future discounted reward.\n",
    "\n",
    "#epsilon - aka exploration rate, this is the rate in which an agent randomly decides its action rather than prediction.\n",
    "\n",
    "#epsilon_decay - we want to decrease the number of explorations as it gets good at playing games.\n",
    "\n",
    "#epsilon_min - we want the agent to explore at least this amount.\n",
    "\n",
    "#learning_rate - Determines how much neural net learns in each iteration.\n",
    "\n",
    "#mbSize - Size of mini batch that will be taken from memory to train model\n",
    "\n",
    "#tsteps - Time steps in each episode"
   ]
  },
  {
   "cell_type": "code",
   "execution_count": 3,
   "metadata": {
    "collapsed": true
   },
   "outputs": [],
   "source": [
    "# the flow of this process goes like\n",
    "\n",
    "# step 1 import dependencies, define hyperparameters\n",
    "# step2 initialize environment\n",
    "# step3 build neural net architecture\n",
    "# step 4 make the main part, i.e, time steps and agent taking decision based on max q value given from network,\n",
    "# depending on epsilon agent chooses to explore-exploit, first network is not trained, so predictes bad random maybe.\n",
    "#step 5 result is stored in deque all along state, action, reward etc.\n",
    "# step 6 mini batch is taken from stored memory and network is trained on it.\n",
    "# step6 goes to step 4 and again predict"
   ]
  },
  {
   "cell_type": "code",
   "execution_count": 4,
   "metadata": {},
   "outputs": [
    {
     "name": "stderr",
     "output_type": "stream",
     "text": [
      "[2017-10-08 01:19:34,455] Making new env: CartPole-v0\n"
     ]
    },
    {
     "name": "stdout",
     "output_type": "stream",
     "text": [
      "initializing gym agent-environment\n"
     ]
    }
   ],
   "source": [
    "#INITIALIZING GYM ENVIRONMENT\n",
    "print('initializing gym agent-environment')\n",
    "env = gym.make('CartPole-v0')"
   ]
  },
  {
   "cell_type": "code",
   "execution_count": 19,
   "metadata": {},
   "outputs": [
    {
     "name": "stdout",
     "output_type": "stream",
     "text": [
      "setting hyper parameters\n"
     ]
    }
   ],
   "source": [
    "print('setting hyper parameters')\n",
    "D = deque()                                # Register where the actions will be stored\n",
    "tSteps = 500                              # Number of timesteps we will be acting on the game and observing results\n",
    "epsilon = 0.7                              # Probability of doing a random move\n",
    "gamma = 0.9                                # Discounted future reward. How much we care about steps further in time\n",
    "mbSize = 50   "
   ]
  },
  {
   "cell_type": "code",
   "execution_count": 6,
   "metadata": {
    "collapsed": true
   },
   "outputs": [],
   "source": [
    "# observation space for the environment\n",
    "\n",
    "# Every environment comes with first-class Space objects that describe the valid actions and observations: \n",
    "# The observation_space defines the structure of the observations your environment will be returning. \n",
    "# Learning agents usually need to know this before they start running, in order to set up the policy function. \n",
    "# Some general-purpose learning agents can handle a wide range of observation types: Discrete, Box, or pixels \n",
    "\n",
    "# similarly we have action space which contains possible actions, in this case 2\n",
    "# these operations can be used \n",
    "\n",
    "#print(env.observation_space)\n",
    "#print(env.observation_space.shape)\n",
    "\n",
    "#print(env.observation_space.high)\n",
    "#print(env.observation_space.low)\n",
    "\n",
    "#print(env.action_space.n)\n",
    "# env.observation_space,n can't be used because action space is discrete but ob space is box type "
   ]
  },
  {
   "cell_type": "code",
   "execution_count": 7,
   "metadata": {},
   "outputs": [
    {
     "name": "stdout",
     "output_type": "stream",
     "text": [
      "building neural net architecture\n"
     ]
    }
   ],
   "source": [
    "# BUILDING DEPP NEURAL NET FOR DQN\n",
    "print('building neural net architecture')\n",
    "\n",
    "model = Sequential()\n",
    "model.add(Dense(20, input_shape = (2,) + env.observation_space.shape, kernel_initializer = 'uniform',\n",
    "                activation = 'relu'))\n",
    "\n",
    "#input is the state of the game which is described by observation space and action space\n",
    "# here input from 2 consecutive states is fed as input\n",
    "\n",
    "model.add(Flatten())  #as the dimension is not 1D, and we are operating with simple Dense units, so better to convert\n",
    "                     # it into 1-d\n",
    "model.add(Dense(18, kernel_initializer = 'uniform', activation = 'relu'))\n",
    "model.add(Dense(10, kernel_initializer = 'uniform', activation = 'relu'))\n",
    "\n",
    "model.add(Dense(env.action_space.n, kernel_initializer = 'uniform', activation = 'linear'))\n",
    "# output no. will be equal to number of possible actions\n",
    "# env.action_space.n here gives 2, as it is discrete\n",
    "\n",
    "model.compile(loss = 'mse', optimizer = 'Adam', metrics = ['accuracy'])"
   ]
  },
  {
   "cell_type": "code",
   "execution_count": 25,
   "metadata": {},
   "outputs": [
    {
     "name": "stdout",
     "output_type": "stream",
     "text": [
      "building main part of action- observation\n",
      "Done observation\n"
     ]
    }
   ],
   "source": [
    "# building main part\n",
    "print('building main part of action- observation')\n",
    "\n",
    "observation = env.reset()\n",
    "#print(observation.shape)           # this observation is having parameters of state , 1 d array having 4 values,\n",
    "                            # but is unstructured, (4,), it is restructuring to (1,4,) np.newaxis can also b used\n",
    "obs = np.expand_dims(observation, axis = 0)\n",
    "#print(obs.shape)\n",
    "\n",
    "state = np.stack( (obs, obs), axis = 1)   #vertically stacking to make obs structure (1, 2, 4)\n",
    "#print(state.shape)\n",
    "\n",
    "# all these reshaping is done so it can be fed into neural net\n",
    "\n",
    "done = False\n",
    "for t in range(tSteps):\n",
    "    if np.random.rand() <= epsilon:\n",
    "        #70% probability chosing to explore\n",
    "        action = np.random.randint(0, env.action_space.n, size = 1)[0]  #taking the first random int generated between\n",
    "                                                        # 0 and 2, for taking tht action\n",
    "    else:\n",
    "        # choose to exploit best option, i.e make prediction from network and choose action with highest \n",
    "        # Q value\n",
    "        \n",
    "        Q = model.predict(state)\n",
    "        action = np.argmax(Q)\n",
    "        \n",
    "    #now take that action\n",
    "    obsNew, reward, done, info = env.step(action)\n",
    " \n",
    "    #similarly the new observation will be unstructured, we ll re structure it and make new\n",
    "    #state and save the previous state to deque (memory)\n",
    "    \n",
    "    obsNew = np.expand_dims(obsNew, axis = 0)  #(4,) to (1,4)\n",
    "\n",
    "    #now we will append one last state to the the new state as in neural net we feed 2 consecutive states\n",
    "       \n",
    "    stateNew = np.append(np.expand_dims(obsNew, axis=0), state[:, :1, :], axis=1)\n",
    "    \n",
    "     #substitute to above line\n",
    "    #state_new2 = np.append(obsNew[:,:,np.newaxis], state[:, :1, :], axis=1)\n",
    "    #stateNew = np.stack( (np.expand_dims(obsNew, axis = 0), state[:, :1, :]) , axis = 1)\n",
    "    \n",
    "    #now we will save previous state\n",
    "    D.append( (state, action, reward, stateNew, done) )\n",
    "    state = stateNew\n",
    "    if done:\n",
    "        env.reset()        # Restart game if it's finished\n",
    "        obs = np.expand_dims(observation, axis = 0)\n",
    "        state = np.stack((obs, obs), axis=1)\n",
    "print('Done observation')"
   ]
  },
  {
   "cell_type": "code",
   "execution_count": 47,
   "metadata": {},
   "outputs": [
    {
     "name": "stdout",
     "output_type": "stream",
     "text": [
      "Done Learning\n"
     ]
    }
   ],
   "source": [
    "# LEARNING FROM THE MISTAKES (Replayinf from memory)\n",
    "miniBatch = random.sample(D, mbSize)    #random.choices(D, mbSize) can't b used as they provide with replacements\n",
    "\n",
    "inputShape = (mbSize,) + state.shape[1:]  #(50, 2, 4)\n",
    "# initializing inputs and targets\n",
    "inputs = np.zeros(inputShape)\n",
    "targets = np.zeros( (mbSize, env.action_space.n))\n",
    "\n",
    "for i in range(mbSize):\n",
    "    state = miniBatch[i][0]\n",
    "    action = miniBatch[i][1]\n",
    "    reward = miniBatch[i][2]\n",
    "    stateNew = miniBatch[i][3]\n",
    "    done = miniBatch[i][4]\n",
    "    \n",
    "    #inputs[i : i+1] = np.expand_dims(state, axis = 0)\n",
    "    inputs[i] = state\n",
    "    \n",
    "    # the target to be achieved is also predicted by model\n",
    "    targets[i] = model.predict(state)\n",
    "    Q_sa = model.predict(stateNew)\n",
    "    if done:\n",
    "        targets[i, action] = reward   #this reward will be last\n",
    "    else:\n",
    "        targets[i, action] = reward + gamma *np.max(Q_sa)\n",
    "        \n",
    "# training on batch\n",
    "# model.train_on_batch(self, x, y, sample_weight=None, class_weight=None)\n",
    "# Runs a single gradient update on a single batch of data.\n",
    "\n",
    "model.train_on_batch(inputs, targets)\n",
    "\n",
    "print('Done Learning')"
   ]
  },
  {
   "cell_type": "code",
   "execution_count": 46,
   "metadata": {},
   "outputs": [
    {
     "name": "stdout",
     "output_type": "stream",
     "text": [
      "Game ended! Total reward: 1.0\n"
     ]
    }
   ],
   "source": [
    "# Play !\n",
    "# now that the model has trained \n",
    "\n",
    "observation = env.reset()\n",
    "obs = np.expand_dims(observation, axis=0)\n",
    "state = np.stack((obs, obs), axis=1)\n",
    "done = False\n",
    "tot_reward = 0.0\n",
    "while not done:\n",
    "    env.render()                    # Uncomment to see game running\n",
    "    Q = model.predict(state)        \n",
    "    action = np.argmax(Q)         \n",
    "    observation, reward, done, info = env.step(action)\n",
    "    obs = np.expand_dims(observation, axis=0)\n",
    "    state = np.append(np.expand_dims(obs, axis=0), state[:, :1, :], axis=1)    \n",
    "    tot_reward += reward\n",
    "print('Game ended! Total reward: {}'.format(reward))"
   ]
  },
  {
   "cell_type": "code",
   "execution_count": null,
   "metadata": {
    "collapsed": true
   },
   "outputs": [],
   "source": []
  }
 ],
 "metadata": {
  "kernelspec": {
   "display_name": "Python 3",
   "language": "python",
   "name": "python3"
  },
  "language_info": {
   "codemirror_mode": {
    "name": "ipython",
    "version": 3
   },
   "file_extension": ".py",
   "mimetype": "text/x-python",
   "name": "python",
   "nbconvert_exporter": "python",
   "pygments_lexer": "ipython3",
   "version": "3.5.2"
  }
 },
 "nbformat": 4,
 "nbformat_minor": 2
}
