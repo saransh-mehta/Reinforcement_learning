{
 "cells": [
  {
   "cell_type": "code",
   "execution_count": 5,
   "metadata": {
    "collapsed": true
   },
   "outputs": [],
   "source": [
    "import random\n",
    "import numpy as np\n",
    "from collections import deque\n",
    "import gym"
   ]
  },
  {
   "cell_type": "code",
   "execution_count": 1,
   "metadata": {
    "collapsed": true
   },
   "outputs": [],
   "source": [
    "# here we will create a reinforcement learning agent which will\n",
    "# first work on explore-exploit principle to choose actions, based on epsilon greedy algorithm\n",
    "# with epsilon being the probability To choose explore,\n",
    "# then as the NN gets trained it slowly decreases epsilon and prefers on network"
   ]
  },
  {
   "cell_type": "code",
   "execution_count": 3,
   "metadata": {
    "collapsed": true
   },
   "outputs": [],
   "source": [
    "# Hyperparameters\n",
    "\n",
    "#episodes - a number of games we want the agent to play.\n",
    "\n",
    "#gamma - aka decay or discount rate, to calculate the future discounted reward.\n",
    "\n",
    "#epsilon - aka exploration rate, this is the rate in which an agent randomly decides its action rather than prediction.\n",
    "\n",
    "#epsilon_decay - we want to decrease the number of explorations as it gets good at playing games.\n",
    "\n",
    "#epsilon_min - we want the agent to explore at least this amount.\n",
    "\n",
    "#learning_rate - Determines how much neural net learns in each iteration.\n"
   ]
  },
  {
   "cell_type": "code",
   "execution_count": 3,
   "metadata": {
    "collapsed": true
   },
   "outputs": [],
   "source": [
    "class DQN:\n",
    "    \n",
    "    def __init__(self, stateSize, actionSize):\n",
    "    \n",
    "        self.episodes = 20\n",
    "        self.gamma = 0.95  # 0<= gamma <1\n",
    "        self.epsilon = 1.0\n",
    "        self.epsilonDecay = 0.995\n",
    "        self.epsilonMin = 0.01\n",
    "        self.lr = 0.001\n",
    "        \n",
    "        self.stateSize = stateSize\n",
    "        self.actionSize = actionSize\n",
    "        self.model = self.neuralNetModel()\n",
    "        \n",
    "        self.memory = deque(maxlen=2000)\n",
    "        \n",
    "        def neuralNetModel(self):\n",
    "            \n",
    "            model = Sequential()\n",
    "            model.add(Dense(24, activation = 'relu', input_dims = self.stateSize))\n",
    "            #input_dims needs to be specified in the first layer of model\n",
    "            \n",
    "            model.add(Dense(24, activation = 'relu'))\n",
    "            model.add(Dense(self.actionSize, activation ='linear'))\n",
    "            \n",
    "            model.compile(loss = 'mse', optimizer = 'Adam(learning_rate = self.lr)')\n",
    "            # mse - mean squared error\n",
    "            \n",
    "            return model\n",
    "        \n",
    "        def remember(self, state, action, reward, nextState, done):\n",
    "            \n",
    "            self.memory.append((state, action, reward, nextState, done))\n",
    "        \n",
    "        def takeAction(self, state):\n",
    "            \n",
    "            if np.random.rand() <= self.epsilon:\n",
    "                \n",
    "                return random.randrange(self.actionSize)       #random.range(start, stop, step) returns a randomly selected element \n",
    "                                                # from start to stop with step\n",
    "                \n",
    "                values = self.model.predict(state)\n",
    "                # return action to be taken\n",
    "                return np.argmax(values[0]) "
   ]
  },
  {
   "cell_type": "code",
   "execution_count": 9,
   "metadata": {},
   "outputs": [
    {
     "name": "stderr",
     "output_type": "stream",
     "text": [
      "[2017-09-29 00:56:48,861] Making new env: CartPole-v0\n"
     ]
    },
    {
     "name": "stdout",
     "output_type": "stream",
     "text": [
      "(4,)\n"
     ]
    }
   ],
   "source": [
    "# now we ll write the main part\n",
    "\n",
    "env = gym.make('CartPole-v0')\n",
    "print(env.observation_space.shape)"
   ]
  },
  {
   "cell_type": "code",
   "execution_count": null,
   "metadata": {
    "collapsed": true
   },
   "outputs": [],
   "source": []
  }
 ],
 "metadata": {
  "kernelspec": {
   "display_name": "Python 3",
   "language": "python",
   "name": "python3"
  },
  "language_info": {
   "codemirror_mode": {
    "name": "ipython",
    "version": 3
   },
   "file_extension": ".py",
   "mimetype": "text/x-python",
   "name": "python",
   "nbconvert_exporter": "python",
   "pygments_lexer": "ipython3",
   "version": "3.5.2"
  }
 },
 "nbformat": 4,
 "nbformat_minor": 2
}
